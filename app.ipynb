{
 "cells": [
  {
   "cell_type": "markdown",
   "id": "83eb9d11",
   "metadata": {},
   "source": [
    "Sample notebook for testing OGC packaging, deployment, and execution.\n",
    "\n",
    "Writes an input string parameterized via Papermill to an output file specified via a placeholder cell tag.\n",
    "\n",
    "Inputs:\n",
    "  - input_1 | String\n",
    "\n",
    "Outputs:\n",
    "  - temp.txt | File"
   ]
  },
  {
   "cell_type": "code",
   "execution_count": 2,
   "id": "85f001fe",
   "metadata": {
    "tags": [
     "parameters"
    ]
   },
   "outputs": [],
   "source": [
    "input_1 = \"Hello World!\"\n"
   ]
  },
  {
   "cell_type": "code",
   "execution_count": 3,
   "id": "6dfb0bd8",
   "metadata": {},
   "outputs": [
    {
     "name": "stdout",
     "output_type": "stream",
     "text": [
      "Hello World!\n"
     ]
    }
   ],
   "source": [
    "with open('temp.txt', 'w') as f:\n",
    "    print(input_1)\n",
    "    f.write(input_1)\n",
    "    \n"
   ]
  },
  {
   "cell_type": "markdown",
   "id": "a04efc3f-124f-434d-b5e4-5a59e46aab44",
   "metadata": {
    "tags": [
     "outputFiles"
    ]
   },
   "source": [
    "temp.txt"
   ]
  }
 ],
 "metadata": {
  "kernelspec": {
   "display_name": "Python 3 (ipykernel)",
   "language": "python",
   "name": "python3"
  },
  "language_info": {
   "codemirror_mode": {
    "name": "ipython",
    "version": 3
   },
   "file_extension": ".py",
   "mimetype": "text/x-python",
   "name": "python",
   "nbconvert_exporter": "python",
   "pygments_lexer": "ipython3",
   "version": "3.9.7"
  },
  "toc-showcode": true,
  "toc-showtags": true
 },
 "nbformat": 4,
 "nbformat_minor": 5
}
